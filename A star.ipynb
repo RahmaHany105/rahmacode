{
 "cells": [
  {
   "cell_type": "code",
   "execution_count": null,
   "id": "bbc4686c-50fc-4d02-9ea5-3fa015bf076d",
   "metadata": {},
   "outputs": [],
   "source": [
    "graph = {\n",
    "    'A': [('B', 1), ('C', 4)],\n",
    "    'B': [('D', 2), ('E', 5)],\n",
    "    'C': [('E', 1)],\n",
    "    'D': [('G', 1)],\n",
    "    'E': [('G', 2)],\n",
    "    'G': []\n",
    "}\n",
    "\n",
    "heuristic_values = {\n",
    "    'A': 6, 'B': 4, 'C': 3, 'D': 2, 'E': 2, 'G': 0\n",
    "}\n",
    "\n",
    "def priority_enqueue(queue, node, cost, path, heuristic):\n",
    "   \n",
    "    f_cost = cost + heuristic[node]  \n",
    "    for idx, (n, c, p, f) in enumerate(queue):\n",
    "        if n == node and f_cost >= f:\n",
    "            return \n",
    "    queue.append((node, cost, path, f_cost))\n",
    "    queue.sort(key=lambda x: x[3])  \n",
    "\n",
    "def a_star_algorithm(start, goal):\n",
    "   \n",
    "    open_list = [(start, 0, [start], heuristic_values[start])]  \n",
    "    visited_nodes = set() \n",
    "\n",
    "    while open_list:\n",
    "       \n",
    "        current_node, current_cost, current_path, _ = open_list.pop(0)\n",
    "\n",
    "       \n",
    "        if current_node == goal:\n",
    "            return current_path, current_cost\n",
    "\n",
    "       \n",
    "        visited_nodes.add(current_node)\n",
    "\n",
    "      \n",
    "        for neighbor, edge_cost in graph[current_node]:\n",
    "            if neighbor not in visited_nodes:\n",
    "                new_cost = current_cost + edge_cost\n",
    "                new_path = current_path + [neighbor]\n",
    "                priority_enqueue(open_list, neighbor, new_cost, new_path, heuristic_values)\n",
    "\n",
    "    return None, None  \n",
    "\n",
    "# Example execution\n",
    "start_node = 'A'\n",
    "goal_node = 'G'\n",
    "result_path, total_cost = a_star_algorithm(start_node, goal_node)\n",
    "\n",
    "# Output the result\n",
    "print(\"Path found:\", result_path)\n",
    "print(\"Total cost:\", total_cost)\n"
   ]
  }
 ],
 "metadata": {
  "kernelspec": {
   "display_name": "Python 3 (ipykernel)",
   "language": "python",
   "name": "python3"
  },
  "language_info": {
   "codemirror_mode": {
    "name": "ipython",
    "version": 3
   },
   "file_extension": ".py",
   "mimetype": "text/x-python",
   "name": "python",
   "nbconvert_exporter": "python",
   "pygments_lexer": "ipython3",
   "version": "3.11.7"
  }
 },
 "nbformat": 4,
 "nbformat_minor": 5
}
